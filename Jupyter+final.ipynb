{
 "cells": [
  {
   "cell_type": "code",
   "execution_count": null,
   "metadata": {
    "collapsed": true
   },
   "outputs": [],
   "source": [
    "# Movie_data\n",
    "Min, Max and Mean duration of movies over the years\n",
    "\n",
    "### I was wondering if movies have gotten longer, or if they just feel that way.\n",
    "\n",
    "Data is from **Chuan Sun** (https://www.kaggle.com/deepmatrix)'s entry on Kaggle: https://www.kaggle.com/deepmatrix/imdb-5000-movie-dataset  \n",
    "The raw data is here: https://raw.githubusercontent.com/sundeepblue/movie_rating_prediction/master/movie_metadata.csv\n",
    "\n",
    "I used pandas and numpy to create Pivot Tables of the minimum, maximum and mean duration for every year, then used matplotlib.pyplot to plot. Using these libraries makes the program very simple.\n",
    "\n",
    "## NOTE:\n",
    "  During some executions, I got an error meessage saying that stdout was down.  *sys.\\_\\_stdout_\\_ = sys.stdout* fixes that error. "
   ]
  },
  {
   "cell_type": "code",
   "execution_count": null,
   "metadata": {
    "collapsed": true
   },
   "outputs": [],
   "source": [
    "#import modules\n",
    "import pandas as pd\n",
    "import numpy\n",
    "import matplotlib.pyplot as plt\n",
    "import sys\n",
    "sys.__stdout__ = sys.stdout"
   ]
  },
  {
   "cell_type": "code",
   "execution_count": null,
   "metadata": {
    "collapsed": true
   },
   "outputs": [],
   "source": [
    "# Get data from the Web\n",
    "\n",
    "url = \"https://raw.githubusercontent.com/sundeepblue/movie_rating_prediction/master/movie_metadata.csv\"\n",
    "movie_data = pd.read_csv(url, encoding=\"Latin-1\")"
   ]
  },
  {
   "cell_type": "code",
   "execution_count": null,
   "metadata": {
    "collapsed": true
   },
   "outputs": [],
   "source": [
    "# Create Pivot Tables\n",
    "\n",
    "mean_dur_by_year = movie_data.pivot_table(index=\"title_year\", values=\"duration\", aggfunc=numpy.mean)\n",
    "min_dur_by_year = movie_data.pivot_table(index=\"title_year\", values=\"duration\", aggfunc=numpy.min)\n",
    "max_dur_by_year = movie_data.pivot_table(index=\"title_year\", values=\"duration\", aggfunc=numpy.max)"
   ]
  },
  {
   "cell_type": "code",
   "execution_count": null,
   "metadata": {
    "collapsed": true
   },
   "outputs": [],
   "source": [
    "# Display the data\n",
    "\n",
    "plt.plot(mean_dur_by_year, \"r\")\n",
    "plt.plot(min_dur_by_year, \"b\")\n",
    "plt.plot(max_dur_by_year, \"g\")\n",
    "plt.show()"
   ]
  },
  {
   "cell_type": "markdown",
   "metadata": {},
   "source": [
    "![graph](https://www.flickr.com/photos/155084014@N07/shares/5298w9)"
   ]
  }
 ],
 "metadata": {
  "kernelspec": {
   "display_name": "Python 3",
   "language": "python",
   "name": "python3"
  },
  "language_info": {
   "codemirror_mode": {
    "name": "ipython",
    "version": 3
   },
   "file_extension": ".py",
   "mimetype": "text/x-python",
   "name": "python",
   "nbconvert_exporter": "python",
   "pygments_lexer": "ipython3",
   "version": "3.6.1"
  }
 },
 "nbformat": 4,
 "nbformat_minor": 1
}
