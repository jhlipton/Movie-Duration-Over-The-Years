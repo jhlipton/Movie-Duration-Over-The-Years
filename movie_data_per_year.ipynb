{
 "cells": [
  {
   "cell_type": "markdown",
   "metadata": {},
   "source": [
    "# Movie_data\n",
    "Min, Max and Mean duration of movies over the years\n",
    "\n",
    "### I was wondering if movies have gotten longer, or if they just feel that way.\n",
    "\n",
    "Data is from **Chuan Sun** (https://www.kaggle.com/deepmatrix)'s entry on Kaggle: https://www.kaggle.com/deepmatrix/imdb-5000-movie-dataset  \n",
    "The raw data is here: https://raw.githubusercontent.com/sundeepblue/movie_rating_prediction/master/movie_metadata.csv\n",
    "\n",
    "I used pandas and numpy to create Pivot Tables of the minimum, maximum and mean duration for every year, then used matplotlib.pyplot to plot. Using these libraries makes the program very simple.\n",
    "\n",
    "## NOTE:\n",
    "  During some executions, I got an error meessage saying that stdout was down.  *sys.\\_\\_stdout\\_\\_ = sys.stdout* fixes that error. \n",
    "    \n",
    "###  Next Steps:\n",
    "    1. Create and run a loop of unique genres\n",
    "    2. Build multiple graphs for each plt.show    "
   ]
  },
  {
   "cell_type": "code",
   "execution_count": null,
   "metadata": {
    "collapsed": true
   },
   "outputs": [],
   "source": [
    "#import modules\n",
    "import pandas as pd\n",
    "import numpy\n",
    "import matplotlib.pyplot as plt\n",
    "import sys\n",
    "sys.__stdout__ = sys.stdout    \n"
   ]
  },
  {
   "cell_type": "code",
   "execution_count": null,
   "metadata": {
    "collapsed": true
   },
   "outputs": [],
   "source": [
    "# Get data from the Web\n",
    "\n",
    "url = \"https://raw.githubusercontent.com/sundeepblue/movie_rating_prediction/master/movie_metadata.csv\"\n",
    "movie_data = pd.read_csv(url, encoding=\"Latin-1\")"
   ]
  },
  {
   "cell_type": "code",
   "execution_count": null,
   "metadata": {
    "collapsed": true
   },
   "outputs": [],
   "source": [
    "# Create Pivot Tables\n",
    "genre_name = \"Action\"\n",
    "genre_data = movie_data[movie_data[\"genres\"].str.contains (genre_name)]\n",
    "genre_mean_dur_by_year = genre_data.pivot_table(index=\"title_year\", values=\"duration\", aggfunc=numpy.mean)\n",
    "genre_min_dur_by_year = genre_data.pivot_table(index=\"title_year\", values=\"duration\", aggfunc=numpy.min)\n",
    "genre_max_dur_by_year = genre_data.pivot_table(index=\"title_year\", values=\"duration\", aggfunc=numpy.max)"
   ]
  },
  {
   "cell_type": "code",
   "execution_count": null,
   "metadata": {
    "collapsed": true
   },
   "outputs": [],
   "source": [
    "# Display the data\n",
    "# Change the default style\n",
    "plt.style.use('seaborn')\n",
    "\n",
    "genre_title = 'Duration by Year -- ' + genre_name + ' Movies'\n",
    "plt.ylabel('Duration')\n",
    "plt.xlabel('Year')\n",
    "plt.title(genre_title, weight=\"bold\")\n",
    "plt.plot(genre_mean_dur_by_year, \"r\")\n",
    "plt.plot(genre_min_dur_by_year, \"b\")\n",
    "plt.plot(genre_max_dur_by_year, \"g\")\n",
    "plt.show()"
   ]
  },
  {
   "cell_type": "code",
   "execution_count": null,
   "metadata": {
    "collapsed": true
   },
   "outputs": [],
   "source": [
    "# Create Pivot Tables\n",
    "genre_name = \"Romance\"\n",
    "genre_data = movie_data[movie_data[\"genres\"].str.contains (genre_name)]\n",
    "genre_mean_dur_by_year = genre_data.pivot_table(index=\"title_year\", values=\"duration\", aggfunc=numpy.mean)\n",
    "genre_min_dur_by_year = genre_data.pivot_table(index=\"title_year\", values=\"duration\", aggfunc=numpy.min)\n",
    "genre_max_dur_by_year = genre_data.pivot_table(index=\"title_year\", values=\"duration\", aggfunc=numpy.max)"
   ]
  },
  {
   "cell_type": "code",
   "execution_count": null,
   "metadata": {
    "collapsed": true
   },
   "outputs": [],
   "source": [
    "# Display the data\n",
    "# Change the default style\n",
    "plt.style.use('seaborn')\n",
    "\n",
    "genre_title = 'Duration by Year -- ' + genre_name + ' Movies'\n",
    "plt.ylabel('Duration')\n",
    "plt.xlabel('Year')\n",
    "plt.title(genre_title, weight=\"bold\")\n",
    "plt.plot(genre_mean_dur_by_year, \"r\")\n",
    "plt.plot(genre_min_dur_by_year, \"b\")\n",
    "plt.plot(genre_max_dur_by_year, \"g\")\n",
    "plt.show()"
   ]
  },
  {
   "cell_type": "code",
   "execution_count": null,
   "metadata": {
    "collapsed": true
   },
   "outputs": [],
   "source": [
    "# Create Pivot Tables\n",
    "genre_name = \"Comedy\"\n",
    "genre_data = movie_data[movie_data[\"genres\"].str.contains (genre_name)]\n",
    "genre_mean_dur_by_year = genre_data.pivot_table(index=\"title_year\", values=\"duration\", aggfunc=numpy.mean)\n",
    "genre_min_dur_by_year = genre_data.pivot_table(index=\"title_year\", values=\"duration\", aggfunc=numpy.min)\n",
    "genre_max_dur_by_year = genre_data.pivot_table(index=\"title_year\", values=\"duration\", aggfunc=numpy.max)"
   ]
  },
  {
   "cell_type": "code",
   "execution_count": null,
   "metadata": {
    "collapsed": true
   },
   "outputs": [],
   "source": [
    "# Display the data\n",
    "# Change the default style\n",
    "plt.style.use('seaborn')\n",
    "\n",
    "genre_title = 'Duration by Year -- ' + genre_name + ' Movies'\n",
    "plt.ylabel('Duration')\n",
    "plt.xlabel('Year')\n",
    "plt.title(genre_title, weight=\"bold\")\n",
    "plt.plot(genre_mean_dur_by_year, \"r\")\n",
    "plt.plot(genre_min_dur_by_year, \"b\")\n",
    "plt.plot(genre_max_dur_by_year, \"g\")\n",
    "plt.show()"
   ]
  },
  {
   "cell_type": "code",
   "execution_count": null,
   "metadata": {
    "collapsed": true
   },
   "outputs": [],
   "source": [
    "# Create Pivot Tables\n",
    "genre_name = \"Fantasy\"\n",
    "genre_data = movie_data[movie_data[\"genres\"].str.contains (genre_name)]\n",
    "genre_mean_dur_by_year = genre_data.pivot_table(index=\"title_year\", values=\"duration\", aggfunc=numpy.mean)\n",
    "genre_min_dur_by_year = genre_data.pivot_table(index=\"title_year\", values=\"duration\", aggfunc=numpy.min)\n",
    "genre_max_dur_by_year = genre_data.pivot_table(index=\"title_year\", values=\"duration\", aggfunc=numpy.max)"
   ]
  },
  {
   "cell_type": "code",
   "execution_count": null,
   "metadata": {
    "collapsed": true
   },
   "outputs": [],
   "source": [
    "# Display the data\n",
    "# Change the default style\n",
    "plt.style.use('seaborn')\n",
    "\n",
    "genre_title = 'Duration by Year -- ' + genre_name + ' Movies'\n",
    "plt.ylabel('Duration')\n",
    "plt.xlabel('Year')\n",
    "plt.title(genre_title, weight=\"bold\")\n",
    "plt.plot(genre_mean_dur_by_year, \"r\")\n",
    "plt.plot(genre_min_dur_by_year, \"b\")\n",
    "plt.plot(genre_max_dur_by_year, \"g\")\n",
    "plt.show()"
   ]
  },
  {
   "cell_type": "markdown",
   "metadata": {},
   "source": [
    
    "![Action](https://static.wixstatic.com/media/ea1a55_7206ba8836d548d6a53d1c3e491a6388~mv2.jpg/v1/fill/w_613,h_444,al_c,lg_1,q_80/ea1a55_7206ba8836d548d6a53d1c3e491a6388~mv2.jpg)\n",
    "\n",
    "![Romance](https://static.wixstatic.com/media/ea1a55_bb5f88024fd7400981c1f1f394bb3e61~mv2.jpg/v1/fill/w_611,h_431,al_c,lg_1,q_80/ea1a55_bb5f88024fd7400981c1f1f394bb3e61~mv2.jpg)\n",
    "\n",
    "![Comedy](https://static.wixstatic.com/media/ea1a55_d51079aa99ab412f99afb2da9be03a35~mv2.jpg/v1/fill/w_611,h_432,al_c,lg_1,q_80/ea1a55_d51079aa99ab412f99afb2da9be03a35~mv2.jpg)  \n",
    "\n",
    "![Fantasy](https://static.wixstatic.com/media/ea1a55_034505c720a0469f8c6d6e4eae475236~mv2.jpg/v1/fill/w_605,h_431,al_c,lg_1,q_80/ea1a55_034505c720a0469f8c6d6e4eae475236~mv2.jpg)"
   ]
  },
  {
   "cell_type": "markdown",
   "metadata": {},
   "source": [
    "# Conclusion:\n",
    "\n",
    "Movies in general really aren't getting longer -- the average run-time is remarkably consistant, and the max isn't growing, either.  However, the maximum run-time for fantasy films is getting longer, even though the average is staying about the same."
   ]
  }
 ],
 "metadata": {
  "kernelspec": {
   "display_name": "Python 3",
   "language": "python",
   "name": "python3"
  },
  "language_info": {
   "codemirror_mode": {
    "name": "ipython",
    "version": 3
   },
   "file_extension": ".py",
   "mimetype": "text/x-python",
   "name": "python",
   "nbconvert_exporter": "python",
   "pygments_lexer": "ipython3",
   "version": "3.6.1"
  }
 },
 "nbformat": 4,
 "nbformat_minor": 2
}
